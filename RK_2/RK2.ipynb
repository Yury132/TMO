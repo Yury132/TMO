{
 "cells": [
  {
   "cell_type": "markdown",
   "metadata": {},
   "source": [
    "##### РК ИУ5-65Б  Вариант 20"
   ]
  },
  {
   "cell_type": "markdown",
   "metadata": {},
   "source": [
    "### Импорт библиотек"
   ]
  },
  {
   "cell_type": "code",
   "execution_count": 1,
   "metadata": {},
   "outputs": [],
   "source": [
    "import numpy as np\n",
    "import pandas as pd\n",
    "import seaborn as sns\n",
    "import matplotlib.pyplot as plt\n",
    "from pandas.plotting import scatter_matrix\n",
    "import warnings\n",
    "warnings.filterwarnings('ignore')\n",
    "sns.set(style=\"ticks\")\n",
    "%matplotlib inline\n",
    "from sklearn.model_selection import train_test_split\n",
    "from sklearn.preprocessing import LabelEncoder\n",
    "from sklearn.svm import SVC , LinearSVC\n",
    "from sklearn.datasets.samples_generator import make_blobs\n",
    "from sklearn.svm import SVR\n",
    "from sklearn.model_selection import GridSearchCV\n",
    "from matplotlib import pyplot as plt"
   ]
  },
  {
   "cell_type": "code",
   "execution_count": 2,
   "metadata": {},
   "outputs": [
    {
     "data": {
      "text/html": [
       "<div>\n",
       "<style scoped>\n",
       "    .dataframe tbody tr th:only-of-type {\n",
       "        vertical-align: middle;\n",
       "    }\n",
       "\n",
       "    .dataframe tbody tr th {\n",
       "        vertical-align: top;\n",
       "    }\n",
       "\n",
       "    .dataframe thead th {\n",
       "        text-align: right;\n",
       "    }\n",
       "</style>\n",
       "<table border=\"1\" class=\"dataframe\">\n",
       "  <thead>\n",
       "    <tr style=\"text-align: right;\">\n",
       "      <th></th>\n",
       "      <th>Start</th>\n",
       "      <th>End</th>\n",
       "      <th>Pollster</th>\n",
       "      <th>Sponsor</th>\n",
       "      <th>SampleSize</th>\n",
       "      <th>Pop</th>\n",
       "      <th>tracking</th>\n",
       "      <th>Text</th>\n",
       "      <th>Category</th>\n",
       "      <th>Include?</th>\n",
       "      <th>...</th>\n",
       "      <th>Rep Yes</th>\n",
       "      <th>Rep No</th>\n",
       "      <th>Dem Sample</th>\n",
       "      <th>Dem Yes</th>\n",
       "      <th>Dem No</th>\n",
       "      <th>Ind Sample</th>\n",
       "      <th>Ind Yes</th>\n",
       "      <th>Ind No</th>\n",
       "      <th>URL</th>\n",
       "      <th>Notes</th>\n",
       "    </tr>\n",
       "  </thead>\n",
       "  <tbody>\n",
       "    <tr>\n",
       "      <th>0</th>\n",
       "      <td>6/28/2019</td>\n",
       "      <td>7/1/2019</td>\n",
       "      <td>ABC News/Washington Post</td>\n",
       "      <td>NaN</td>\n",
       "      <td>1008</td>\n",
       "      <td>a</td>\n",
       "      <td>NaN</td>\n",
       "      <td>Based on what you know, do you think Congress ...</td>\n",
       "      <td>begin_proceedings</td>\n",
       "      <td>yes</td>\n",
       "      <td>...</td>\n",
       "      <td>7.0</td>\n",
       "      <td>87.0</td>\n",
       "      <td>292</td>\n",
       "      <td>61</td>\n",
       "      <td>36</td>\n",
       "      <td>373</td>\n",
       "      <td>37</td>\n",
       "      <td>59</td>\n",
       "      <td>https://games-cdn.washingtonpost.com/notes/pro...</td>\n",
       "      <td>NaN</td>\n",
       "    </tr>\n",
       "    <tr>\n",
       "      <th>1</th>\n",
       "      <td>4/22/2019</td>\n",
       "      <td>4/25/2019</td>\n",
       "      <td>ABC News/Washington Post</td>\n",
       "      <td>NaN</td>\n",
       "      <td>1001</td>\n",
       "      <td>a</td>\n",
       "      <td>NaN</td>\n",
       "      <td>Based on what you know, do you think Congress ...</td>\n",
       "      <td>begin_proceedings</td>\n",
       "      <td>yes</td>\n",
       "      <td>...</td>\n",
       "      <td>10.0</td>\n",
       "      <td>87.0</td>\n",
       "      <td>290</td>\n",
       "      <td>62</td>\n",
       "      <td>29</td>\n",
       "      <td>360</td>\n",
       "      <td>36</td>\n",
       "      <td>59</td>\n",
       "      <td>https://games-cdn.washingtonpost.com/notes/pro...</td>\n",
       "      <td>NaN</td>\n",
       "    </tr>\n",
       "    <tr>\n",
       "      <th>2</th>\n",
       "      <td>1/21/2019</td>\n",
       "      <td>1/24/2019</td>\n",
       "      <td>ABC News/Washington Post</td>\n",
       "      <td>NaN</td>\n",
       "      <td>1001</td>\n",
       "      <td>a</td>\n",
       "      <td>NaN</td>\n",
       "      <td>Based on what you know, do you think Congress ...</td>\n",
       "      <td>begin_proceedings</td>\n",
       "      <td>yes</td>\n",
       "      <td>...</td>\n",
       "      <td>7.0</td>\n",
       "      <td>90.0</td>\n",
       "      <td>320</td>\n",
       "      <td>64</td>\n",
       "      <td>30</td>\n",
       "      <td>370</td>\n",
       "      <td>42</td>\n",
       "      <td>53</td>\n",
       "      <td>langerresearch.com/wp-content/uploads/1204a2Tr...</td>\n",
       "      <td>NaN</td>\n",
       "    </tr>\n",
       "    <tr>\n",
       "      <th>3</th>\n",
       "      <td>8/26/2018</td>\n",
       "      <td>8/29/2018</td>\n",
       "      <td>ABC News/Washington Post</td>\n",
       "      <td>NaN</td>\n",
       "      <td>1003</td>\n",
       "      <td>a</td>\n",
       "      <td>NaN</td>\n",
       "      <td>Based on what you know, do you think Congress ...</td>\n",
       "      <td>begin_proceedings</td>\n",
       "      <td>yes</td>\n",
       "      <td>...</td>\n",
       "      <td>15.0</td>\n",
       "      <td>82.0</td>\n",
       "      <td>331</td>\n",
       "      <td>75</td>\n",
       "      <td>21</td>\n",
       "      <td>371</td>\n",
       "      <td>49</td>\n",
       "      <td>46</td>\n",
       "      <td>https://www.langerresearch.com/wp-content/uplo...</td>\n",
       "      <td>NaN</td>\n",
       "    </tr>\n",
       "    <tr>\n",
       "      <th>4</th>\n",
       "      <td>6/8/2019</td>\n",
       "      <td>6/12/2019</td>\n",
       "      <td>Civiqs</td>\n",
       "      <td>NaN</td>\n",
       "      <td>1559</td>\n",
       "      <td>rv</td>\n",
       "      <td>NaN</td>\n",
       "      <td>Do you think the House of Representatives shou...</td>\n",
       "      <td>begin_inquiry</td>\n",
       "      <td>yes</td>\n",
       "      <td>...</td>\n",
       "      <td>5.0</td>\n",
       "      <td>93.0</td>\n",
       "      <td>577</td>\n",
       "      <td>77</td>\n",
       "      <td>15</td>\n",
       "      <td>499</td>\n",
       "      <td>41</td>\n",
       "      <td>53</td>\n",
       "      <td>https://civiqs.com/documents/Civiqs_DailyKos_m...</td>\n",
       "      <td>NaN</td>\n",
       "    </tr>\n",
       "  </tbody>\n",
       "</table>\n",
       "<p>5 rows × 24 columns</p>\n",
       "</div>"
      ],
      "text/plain": [
       "       Start        End                  Pollster Sponsor  SampleSize Pop  \\\n",
       "0  6/28/2019   7/1/2019  ABC News/Washington Post     NaN        1008   a   \n",
       "1  4/22/2019  4/25/2019  ABC News/Washington Post     NaN        1001   a   \n",
       "2  1/21/2019  1/24/2019  ABC News/Washington Post     NaN        1001   a   \n",
       "3  8/26/2018  8/29/2018  ABC News/Washington Post     NaN        1003   a   \n",
       "4   6/8/2019  6/12/2019                    Civiqs     NaN        1559  rv   \n",
       "\n",
       "   tracking                                               Text  \\\n",
       "0       NaN  Based on what you know, do you think Congress ...   \n",
       "1       NaN  Based on what you know, do you think Congress ...   \n",
       "2       NaN  Based on what you know, do you think Congress ...   \n",
       "3       NaN  Based on what you know, do you think Congress ...   \n",
       "4       NaN  Do you think the House of Representatives shou...   \n",
       "\n",
       "            Category Include?  ...  Rep Yes  Rep No  Dem Sample  Dem Yes  \\\n",
       "0  begin_proceedings      yes  ...      7.0    87.0         292       61   \n",
       "1  begin_proceedings      yes  ...     10.0    87.0         290       62   \n",
       "2  begin_proceedings      yes  ...      7.0    90.0         320       64   \n",
       "3  begin_proceedings      yes  ...     15.0    82.0         331       75   \n",
       "4      begin_inquiry      yes  ...      5.0    93.0         577       77   \n",
       "\n",
       "   Dem No  Ind Sample  Ind Yes  Ind No  \\\n",
       "0      36         373       37      59   \n",
       "1      29         360       36      59   \n",
       "2      30         370       42      53   \n",
       "3      21         371       49      46   \n",
       "4      15         499       41      53   \n",
       "\n",
       "                                                 URL  Notes  \n",
       "0  https://games-cdn.washingtonpost.com/notes/pro...    NaN  \n",
       "1  https://games-cdn.washingtonpost.com/notes/pro...    NaN  \n",
       "2  langerresearch.com/wp-content/uploads/1204a2Tr...    NaN  \n",
       "3  https://www.langerresearch.com/wp-content/uplo...    NaN  \n",
       "4  https://civiqs.com/documents/Civiqs_DailyKos_m...    NaN  \n",
       "\n",
       "[5 rows x 24 columns]"
      ]
     },
     "execution_count": 2,
     "metadata": {},
     "output_type": "execute_result"
    }
   ],
   "source": [
    "data = pd.read_csv('impeachment-polls.csv', sep = ';' )\n",
    "data.head()"
   ]
  },
  {
   "cell_type": "code",
   "execution_count": 3,
   "metadata": {},
   "outputs": [
    {
     "data": {
      "text/plain": [
       "(88, 24)"
      ]
     },
     "execution_count": 3,
     "metadata": {},
     "output_type": "execute_result"
    }
   ],
   "source": [
    "data.shape"
   ]
  },
  {
   "cell_type": "code",
   "execution_count": 4,
   "metadata": {},
   "outputs": [],
   "source": [
    "# Заполняем отсутствующие значения \n",
    "data['Dem Sample'] = data['Dem Sample'].replace(0,np.nan)\n",
    "data['Dem Sample'] = data['Dem Sample'].fillna(data['Dem Sample'].mean())\n",
    "data['Rep Sample'] = data['Rep Sample'].replace(0,np.nan)\n",
    "data['Rep Sample'] = data['Rep Sample'].fillna(data['Rep Sample'].mean())"
   ]
  },
  {
   "cell_type": "code",
   "execution_count": 5,
   "metadata": {},
   "outputs": [
    {
     "data": {
      "text/plain": [
       "Start          object\n",
       "End            object\n",
       "Pollster       object\n",
       "Sponsor        object\n",
       "SampleSize      int64\n",
       "Pop            object\n",
       "tracking      float64\n",
       "Text           object\n",
       "Category       object\n",
       "Include?       object\n",
       "Yes             int64\n",
       "No              int64\n",
       "Unsure          int64\n",
       "Rep Sample      int64\n",
       "Rep Yes       float64\n",
       "Rep No        float64\n",
       "Dem Sample      int64\n",
       "Dem Yes         int64\n",
       "Dem No          int64\n",
       "Ind Sample      int64\n",
       "Ind Yes         int64\n",
       "Ind No          int64\n",
       "URL            object\n",
       "Notes         float64\n",
       "dtype: object"
      ]
     },
     "execution_count": 5,
     "metadata": {},
     "output_type": "execute_result"
    }
   ],
   "source": [
    "data.dtypes"
   ]
  },
  {
   "cell_type": "code",
   "execution_count": 6,
   "metadata": {},
   "outputs": [
    {
     "data": {
      "text/plain": [
       "Start          0\n",
       "End            0\n",
       "Pollster       0\n",
       "Sponsor       41\n",
       "SampleSize     0\n",
       "Pop            0\n",
       "tracking      88\n",
       "Text           0\n",
       "Category       0\n",
       "Include?       0\n",
       "Yes            0\n",
       "No             0\n",
       "Unsure         0\n",
       "Rep Sample     0\n",
       "Rep Yes        2\n",
       "Rep No         2\n",
       "Dem Sample     0\n",
       "Dem Yes        0\n",
       "Dem No         0\n",
       "Ind Sample     0\n",
       "Ind Yes        0\n",
       "Ind No         0\n",
       "URL            0\n",
       "Notes         88\n",
       "dtype: int64"
      ]
     },
     "execution_count": 6,
     "metadata": {},
     "output_type": "execute_result"
    }
   ],
   "source": [
    "data.isnull().sum()\n",
    "# проверим есть ли пропущенные значения"
   ]
  },
  {
   "cell_type": "code",
   "execution_count": 7,
   "metadata": {},
   "outputs": [
    {
     "name": "stdout",
     "output_type": "stream",
     "text": [
      "<class 'pandas.core.frame.DataFrame'>\n",
      "RangeIndex: 88 entries, 0 to 87\n",
      "Data columns (total 24 columns):\n",
      " #   Column      Non-Null Count  Dtype  \n",
      "---  ------      --------------  -----  \n",
      " 0   Start       88 non-null     object \n",
      " 1   End         88 non-null     object \n",
      " 2   Pollster    88 non-null     object \n",
      " 3   Sponsor     47 non-null     object \n",
      " 4   SampleSize  88 non-null     int64  \n",
      " 5   Pop         88 non-null     object \n",
      " 6   tracking    0 non-null      float64\n",
      " 7   Text        88 non-null     object \n",
      " 8   Category    88 non-null     object \n",
      " 9   Include?    88 non-null     object \n",
      " 10  Yes         88 non-null     int64  \n",
      " 11  No          88 non-null     int64  \n",
      " 12  Unsure      88 non-null     int64  \n",
      " 13  Rep Sample  88 non-null     int64  \n",
      " 14  Rep Yes     86 non-null     float64\n",
      " 15  Rep No      86 non-null     float64\n",
      " 16  Dem Sample  88 non-null     int64  \n",
      " 17  Dem Yes     88 non-null     int64  \n",
      " 18  Dem No      88 non-null     int64  \n",
      " 19  Ind Sample  88 non-null     int64  \n",
      " 20  Ind Yes     88 non-null     int64  \n",
      " 21  Ind No      88 non-null     int64  \n",
      " 22  URL         88 non-null     object \n",
      " 23  Notes       0 non-null      float64\n",
      "dtypes: float64(4), int64(11), object(9)\n",
      "memory usage: 16.6+ KB\n"
     ]
    }
   ],
   "source": [
    "data.info()"
   ]
  },
  {
   "cell_type": "code",
   "execution_count": 8,
   "metadata": {},
   "outputs": [
    {
     "data": {
      "text/html": [
       "<div>\n",
       "<style scoped>\n",
       "    .dataframe tbody tr th:only-of-type {\n",
       "        vertical-align: middle;\n",
       "    }\n",
       "\n",
       "    .dataframe tbody tr th {\n",
       "        vertical-align: top;\n",
       "    }\n",
       "\n",
       "    .dataframe thead th {\n",
       "        text-align: right;\n",
       "    }\n",
       "</style>\n",
       "<table border=\"1\" class=\"dataframe\">\n",
       "  <thead>\n",
       "    <tr style=\"text-align: right;\">\n",
       "      <th></th>\n",
       "      <th>Start</th>\n",
       "      <th>End</th>\n",
       "      <th>Pollster</th>\n",
       "      <th>Sponsor</th>\n",
       "      <th>SampleSize</th>\n",
       "      <th>Pop</th>\n",
       "      <th>tracking</th>\n",
       "      <th>Text</th>\n",
       "      <th>Category</th>\n",
       "      <th>Include?</th>\n",
       "      <th>...</th>\n",
       "      <th>Rep Yes</th>\n",
       "      <th>Rep No</th>\n",
       "      <th>Dem Sample</th>\n",
       "      <th>Dem Yes</th>\n",
       "      <th>Dem No</th>\n",
       "      <th>Ind Sample</th>\n",
       "      <th>Ind Yes</th>\n",
       "      <th>Ind No</th>\n",
       "      <th>URL</th>\n",
       "      <th>Notes</th>\n",
       "    </tr>\n",
       "  </thead>\n",
       "  <tbody>\n",
       "    <tr>\n",
       "      <th>0</th>\n",
       "      <td>6/28/2019</td>\n",
       "      <td>7/1/2019</td>\n",
       "      <td>ABC News/Washington Post</td>\n",
       "      <td>NaN</td>\n",
       "      <td>1008</td>\n",
       "      <td>a</td>\n",
       "      <td>NaN</td>\n",
       "      <td>Based on what you know, do you think Congress ...</td>\n",
       "      <td>begin_proceedings</td>\n",
       "      <td>yes</td>\n",
       "      <td>...</td>\n",
       "      <td>7.0</td>\n",
       "      <td>87.0</td>\n",
       "      <td>292</td>\n",
       "      <td>61</td>\n",
       "      <td>36</td>\n",
       "      <td>373</td>\n",
       "      <td>37</td>\n",
       "      <td>59</td>\n",
       "      <td>https://games-cdn.washingtonpost.com/notes/pro...</td>\n",
       "      <td>NaN</td>\n",
       "    </tr>\n",
       "    <tr>\n",
       "      <th>1</th>\n",
       "      <td>4/22/2019</td>\n",
       "      <td>4/25/2019</td>\n",
       "      <td>ABC News/Washington Post</td>\n",
       "      <td>NaN</td>\n",
       "      <td>1001</td>\n",
       "      <td>a</td>\n",
       "      <td>NaN</td>\n",
       "      <td>Based on what you know, do you think Congress ...</td>\n",
       "      <td>begin_proceedings</td>\n",
       "      <td>yes</td>\n",
       "      <td>...</td>\n",
       "      <td>10.0</td>\n",
       "      <td>87.0</td>\n",
       "      <td>290</td>\n",
       "      <td>62</td>\n",
       "      <td>29</td>\n",
       "      <td>360</td>\n",
       "      <td>36</td>\n",
       "      <td>59</td>\n",
       "      <td>https://games-cdn.washingtonpost.com/notes/pro...</td>\n",
       "      <td>NaN</td>\n",
       "    </tr>\n",
       "    <tr>\n",
       "      <th>2</th>\n",
       "      <td>1/21/2019</td>\n",
       "      <td>1/24/2019</td>\n",
       "      <td>ABC News/Washington Post</td>\n",
       "      <td>NaN</td>\n",
       "      <td>1001</td>\n",
       "      <td>a</td>\n",
       "      <td>NaN</td>\n",
       "      <td>Based on what you know, do you think Congress ...</td>\n",
       "      <td>begin_proceedings</td>\n",
       "      <td>yes</td>\n",
       "      <td>...</td>\n",
       "      <td>7.0</td>\n",
       "      <td>90.0</td>\n",
       "      <td>320</td>\n",
       "      <td>64</td>\n",
       "      <td>30</td>\n",
       "      <td>370</td>\n",
       "      <td>42</td>\n",
       "      <td>53</td>\n",
       "      <td>langerresearch.com/wp-content/uploads/1204a2Tr...</td>\n",
       "      <td>NaN</td>\n",
       "    </tr>\n",
       "    <tr>\n",
       "      <th>3</th>\n",
       "      <td>8/26/2018</td>\n",
       "      <td>8/29/2018</td>\n",
       "      <td>ABC News/Washington Post</td>\n",
       "      <td>NaN</td>\n",
       "      <td>1003</td>\n",
       "      <td>a</td>\n",
       "      <td>NaN</td>\n",
       "      <td>Based on what you know, do you think Congress ...</td>\n",
       "      <td>begin_proceedings</td>\n",
       "      <td>yes</td>\n",
       "      <td>...</td>\n",
       "      <td>15.0</td>\n",
       "      <td>82.0</td>\n",
       "      <td>331</td>\n",
       "      <td>75</td>\n",
       "      <td>21</td>\n",
       "      <td>371</td>\n",
       "      <td>49</td>\n",
       "      <td>46</td>\n",
       "      <td>https://www.langerresearch.com/wp-content/uplo...</td>\n",
       "      <td>NaN</td>\n",
       "    </tr>\n",
       "    <tr>\n",
       "      <th>4</th>\n",
       "      <td>6/8/2019</td>\n",
       "      <td>6/12/2019</td>\n",
       "      <td>Civiqs</td>\n",
       "      <td>NaN</td>\n",
       "      <td>1559</td>\n",
       "      <td>rv</td>\n",
       "      <td>NaN</td>\n",
       "      <td>Do you think the House of Representatives shou...</td>\n",
       "      <td>begin_inquiry</td>\n",
       "      <td>yes</td>\n",
       "      <td>...</td>\n",
       "      <td>5.0</td>\n",
       "      <td>93.0</td>\n",
       "      <td>577</td>\n",
       "      <td>77</td>\n",
       "      <td>15</td>\n",
       "      <td>499</td>\n",
       "      <td>41</td>\n",
       "      <td>53</td>\n",
       "      <td>https://civiqs.com/documents/Civiqs_DailyKos_m...</td>\n",
       "      <td>NaN</td>\n",
       "    </tr>\n",
       "  </tbody>\n",
       "</table>\n",
       "<p>5 rows × 24 columns</p>\n",
       "</div>"
      ],
      "text/plain": [
       "       Start        End                  Pollster Sponsor  SampleSize Pop  \\\n",
       "0  6/28/2019   7/1/2019  ABC News/Washington Post     NaN        1008   a   \n",
       "1  4/22/2019  4/25/2019  ABC News/Washington Post     NaN        1001   a   \n",
       "2  1/21/2019  1/24/2019  ABC News/Washington Post     NaN        1001   a   \n",
       "3  8/26/2018  8/29/2018  ABC News/Washington Post     NaN        1003   a   \n",
       "4   6/8/2019  6/12/2019                    Civiqs     NaN        1559  rv   \n",
       "\n",
       "   tracking                                               Text  \\\n",
       "0       NaN  Based on what you know, do you think Congress ...   \n",
       "1       NaN  Based on what you know, do you think Congress ...   \n",
       "2       NaN  Based on what you know, do you think Congress ...   \n",
       "3       NaN  Based on what you know, do you think Congress ...   \n",
       "4       NaN  Do you think the House of Representatives shou...   \n",
       "\n",
       "            Category Include?  ...  Rep Yes  Rep No  Dem Sample  Dem Yes  \\\n",
       "0  begin_proceedings      yes  ...      7.0    87.0         292       61   \n",
       "1  begin_proceedings      yes  ...     10.0    87.0         290       62   \n",
       "2  begin_proceedings      yes  ...      7.0    90.0         320       64   \n",
       "3  begin_proceedings      yes  ...     15.0    82.0         331       75   \n",
       "4      begin_inquiry      yes  ...      5.0    93.0         577       77   \n",
       "\n",
       "   Dem No  Ind Sample  Ind Yes  Ind No  \\\n",
       "0      36         373       37      59   \n",
       "1      29         360       36      59   \n",
       "2      30         370       42      53   \n",
       "3      21         371       49      46   \n",
       "4      15         499       41      53   \n",
       "\n",
       "                                                 URL  Notes  \n",
       "0  https://games-cdn.washingtonpost.com/notes/pro...    NaN  \n",
       "1  https://games-cdn.washingtonpost.com/notes/pro...    NaN  \n",
       "2  langerresearch.com/wp-content/uploads/1204a2Tr...    NaN  \n",
       "3  https://www.langerresearch.com/wp-content/uplo...    NaN  \n",
       "4  https://civiqs.com/documents/Civiqs_DailyKos_m...    NaN  \n",
       "\n",
       "[5 rows x 24 columns]"
      ]
     },
     "execution_count": 8,
     "metadata": {},
     "output_type": "execute_result"
    }
   ],
   "source": [
    "data.head()"
   ]
  },
  {
   "cell_type": "code",
   "execution_count": 9,
   "metadata": {},
   "outputs": [
    {
     "data": {
      "text/plain": [
       "<AxesSubplot:>"
      ]
     },
     "execution_count": 9,
     "metadata": {},
     "output_type": "execute_result"
    },
    {
     "data": {
      "image/png": "[encoded data removed]",
      "text/plain": [
       "<Figure size 1080x504 with 2 Axes>"
      ]
     },
     "metadata": {
      "needs_background": "light"
     },
     "output_type": "display_data"
    }
   ],
   "source": [
    "#Построим корреляционную матрицу\n",
    "fig, ax = plt.subplots(figsize=(15,7))\n",
    "sns.heatmap(data.corr(method='pearson'), ax=ax, annot=True, fmt='.2f')"
   ]
  },
  {
   "cell_type": "code",
   "execution_count": 10,
   "metadata": {},
   "outputs": [
    {
     "name": "stdout",
     "output_type": "stream",
     "text": [
      "Входные данные:\n",
      "\n",
      "    SampleSize  Rep Sample\n",
      "0        1008         232\n",
      "1        1001         260\n",
      "2        1001         240\n",
      "3        1003         251\n",
      "4        1559         483 \n",
      "\n",
      "Выходные данные:\n",
      "\n",
      " 0    292\n",
      "1    290\n",
      "2    320\n",
      "3    331\n",
      "4    577\n",
      "Name: Dem Sample, dtype: int64\n"
     ]
    }
   ],
   "source": [
    "X = data[['SampleSize', 'Rep Sample']]\n",
    "Y = data['Dem Sample']\n",
    "print('Входные данные:\\n\\n', X.head(), '\\n\\nВыходные данные:\\n\\n', Y.head())"
   ]
  },
  {
   "cell_type": "code",
   "execution_count": 11,
   "metadata": {},
   "outputs": [
    {
     "name": "stdout",
     "output_type": "stream",
     "text": [
      "Входные параметры обучающей выборки:\n",
      "\n",
      "     SampleSize  Rep Sample\n",
      "76         900         225\n",
      "42        1002         321\n",
      "22        1000         320\n",
      "6         1007         262\n",
      "61        1994         648 \n",
      "\n",
      "Входные параметры тестовой выборки:\n",
      "\n",
      "     SampleSize  Rep Sample\n",
      "2         1001         240\n",
      "13        1012         253\n",
      "53         751         192\n",
      "41        1004         321\n",
      "66        1992         633 \n",
      "\n",
      "Выходные параметры обучающей выборки:\n",
      "\n",
      " 76    288\n",
      "42    371\n",
      "22    370\n",
      "6     332\n",
      "61    726\n",
      "Name: Dem Sample, dtype: int64 \n",
      "\n",
      "Выходные параметры тестовой выборки:\n",
      "\n",
      " 2     320\n",
      "13    304\n",
      "53    240\n",
      "41    371\n",
      "66    792\n",
      "Name: Dem Sample, dtype: int64\n"
     ]
    }
   ],
   "source": [
    "X_train,  X_test,  Y_train,  Y_test = train_test_split(X,  Y, random_state = 0, test_size = 0.2)\n",
    "print('Входные параметры обучающей выборки:\\n\\n',X_train.head(), \\\n",
    "      '\\n\\nВходные параметры тестовой выборки:\\n\\n', X_test.head(), \\\n",
    "      '\\n\\nВыходные параметры обучающей выборки:\\n\\n', Y_train.head(), \\\n",
    "      '\\n\\nВыходные параметры тестовой выборки:\\n\\n', Y_test.head())"
   ]
  },
  {
   "cell_type": "code",
   "execution_count": 12,
   "metadata": {},
   "outputs": [],
   "source": [
    "from sklearn.linear_model import LinearRegression\n",
    "from sklearn.metrics import mean_absolute_error, mean_squared_error,  median_absolute_error, r2_score \n",
    "from sklearn.svm import SVR"
   ]
  },
  {
   "cell_type": "code",
   "execution_count": 13,
   "metadata": {},
   "outputs": [
    {
     "data": {
      "image/png": "[encoded data removed]",
      "text/plain": [
       "<Figure size 720x720 with 1 Axes>"
      ]
     },
     "metadata": {
      "needs_background": "light"
     },
     "output_type": "display_data"
    }
   ],
   "source": [
    "polySVR = SVR(kernel='poly', degree=2, gamma=0.3, C=1.0)\n",
    "polySVR.fit(X_train, Y_train)\n",
    "svr_y_pred = polySVR.predict(X_test)\n",
    "fig, ax = plt.subplots(figsize=(10,10)) \n",
    "ax.set_title('Полиномиальный регрессор степени 2') \n",
    "ax.plot(X_test.SampleSize, Y_test, 'bs')\n",
    "ax.plot(X_test.SampleSize, svr_y_pred, 'r.') \n",
    "ax.set_xlabel('SampleSize')\n",
    "ax.set_ylabel('Dem Sample')\n",
    "plt.show()"
   ]
  },
  {
   "cell_type": "code",
   "execution_count": 14,
   "metadata": {},
   "outputs": [
    {
     "name": "stdout",
     "output_type": "stream",
     "text": [
      "Средняя абсолютная ошибка: 24762.4691722124\n",
      "Средняя квадратичная ошибка: 2818754710.1991086\n",
      "Median absolute error: 15258.402271329898\n",
      "Коэффициент детерминации: -84060.59528069508\n"
     ]
    }
   ],
   "source": [
    "print('Средняя абсолютная ошибка:',   mean_absolute_error(Y_test, svr_y_pred))\n",
    "print('Средняя квадратичная ошибка:', mean_squared_error(Y_test, svr_y_pred))\n",
    "print('Median absolute error:',       median_absolute_error(Y_test, svr_y_pred))\n",
    "print('Коэффициент детерминации:',    r2_score(Y_test, svr_y_pred))"
   ]
  },
  {
   "cell_type": "code",
   "execution_count": 15,
   "metadata": {},
   "outputs": [],
   "source": [
    "from sklearn.ensemble import GradientBoostingRegressor"
   ]
  },
  {
   "cell_type": "code",
   "execution_count": 16,
   "metadata": {},
   "outputs": [
    {
     "data": {
      "text/plain": [
       "GradientBoostingRegressor(n_estimators=5, random_state=10)"
      ]
     },
     "execution_count": 16,
     "metadata": {},
     "output_type": "execute_result"
    }
   ],
   "source": [
    "grad = GradientBoostingRegressor(n_estimators=5, random_state = 10)\n",
    "grad.fit(X_train, Y_train)"
   ]
  },
  {
   "cell_type": "code",
   "execution_count": 17,
   "metadata": {},
   "outputs": [],
   "source": [
    "Y_grad_pred = grad.predict(X_test)"
   ]
  },
  {
   "cell_type": "code",
   "execution_count": 18,
   "metadata": {},
   "outputs": [
    {
     "data": {
      "image/png": "[encoded data removed]",
      "text/plain": [
       "<Figure size 432x288 with 1 Axes>"
      ]
     },
     "metadata": {
      "needs_background": "light"
     },
     "output_type": "display_data"
    }
   ],
   "source": [
    "plt.scatter (X_test.SampleSize, Y_test,      marker = 'o', label = 'Тестовая выборка')\n",
    "plt.scatter (X_test.SampleSize, Y_grad_pred, marker = '.', label = 'Предсказанные данные')\n",
    "plt.legend (loc = 'lower right')\n",
    "plt.xlabel ('SampleSize')\n",
    "plt.ylabel ('Dem Sample')\n",
    "plt.show ()"
   ]
  },
  {
   "cell_type": "code",
   "execution_count": 19,
   "metadata": {},
   "outputs": [
    {
     "name": "stdout",
     "output_type": "stream",
     "text": [
      "Средняя абсолютная ошибка: 86.19455672841605\n",
      "Средняя квадратичная ошибка: 14879.45514396514\n",
      "Median absolute error: 53.99459110525322\n",
      "Коэффициент детерминации: 0.5562612341600657\n"
     ]
    }
   ],
   "source": [
    "print('Средняя абсолютная ошибка:',   mean_absolute_error(Y_test, Y_grad_pred))\n",
    "print('Средняя квадратичная ошибка:', mean_squared_error(Y_test, Y_grad_pred))\n",
    "print('Median absolute error:',       median_absolute_error(Y_test, Y_grad_pred))\n",
    "print('Коэффициент детерминации:',    r2_score(Y_test, Y_grad_pred))"
   ]
  },
  {
   "cell_type": "markdown",
   "metadata": {},
   "source": [
    "### Вывод: Модель обученная методом \"Градиентный бустинг\" обучилась лучше чем методом опорных векторов."
   ]
  }
 ],
 "metadata": {
  "kernelspec": {
   "display_name": "Python 3",
   "language": "python",
   "name": "python3"
  },
  "language_info": {
   "codemirror_mode": {
    "name": "ipython",
    "version": 3
   },
   "file_extension": ".py",
   "mimetype": "text/x-python",
   "name": "python",
   "nbconvert_exporter": "python",
   "pygments_lexer": "ipython3",
   "version": "3.8.5"
  }
 },
 "nbformat": 4,
 "nbformat_minor": 4
}
